{
  "nbformat": 4,
  "nbformat_minor": 0,
  "metadata": {
    "colab": {
      "provenance": [],
      "collapsed_sections": [
        "K2CkZRU8BbsZ",
        "UoJafue6uzQ9",
        "V1BDz69Lu6dh"
      ],
      "include_colab_link": true
    },
    "kernelspec": {
      "name": "python3",
      "display_name": "Python 3"
    },
    "language_info": {
      "name": "python"
    },
    "gpuClass": "standard"
  },
  "cells": [
    {
      "cell_type": "markdown",
      "metadata": {
        "id": "view-in-github",
        "colab_type": "text"
      },
      "source": [
        "<a href=\"https://colab.research.google.com/github/nasrinrastgoo/data_mining_titanicclassification/blob/main/DMT_titanicClassification.ipynb\" target=\"_parent\"><img src=\"https://colab.research.google.com/assets/colab-badge.svg\" alt=\"Open In Colab\"/></a>"
      ]
    },
    {
      "cell_type": "markdown",
      "source": [
        "Data Mining Techniques\n",
        "\n",
        "Data Mining Practice and Theory\n",
        "\n",
        "Titanic Explore & Classification"
      ],
      "metadata": {
        "id": "kq3Df6soEbY7"
      }
    },
    {
      "cell_type": "code",
      "execution_count": 1,
      "metadata": {
        "id": "LEsGTVSVETJV"
      },
      "outputs": [],
      "source": [
        "import pandas as pd\n",
        "import sklearn as sk\n",
        "from sklearn.model_selection import cross_val_score,StratifiedKFold\n",
        "from sklearn.linear_model import LogisticRegression\n",
        "from sklearn import svm\n",
        "from sklearn.ensemble import RandomForestClassifier\n",
        "import matplotlib.pyplot as plt\n",
        "import numpy as np\n",
        "import seaborn as sns\n",
        "\n",
        "from sklearn.model_selection import train_test_split\n",
        "from sklearn.metrics import accuracy_score\n",
        "import xgboost\n",
        "from xgboost.sklearn import XGBClassifier\n",
        "from sklearn.linear_model import SGDClassifier\n",
        "from sklearn.preprocessing import StandardScaler\n",
        "from sklearn.pipeline import make_pipeline\n",
        "from sklearn.metrics import mean_squared_error\n",
        "from sklearn.metrics import mean_absolute_error\n"
      ]
    },
    {
      "cell_type": "code",
      "source": [
        "from google.colab import drive\n",
        "drive.mount('/content/drive')"
      ],
      "metadata": {
        "colab": {
          "base_uri": "https://localhost:8080/"
        },
        "id": "ID9XETEV-1Bj",
        "outputId": "d8882551-8cf7-4593-fd92-c0820fb4b8e8"
      },
      "execution_count": 2,
      "outputs": [
        {
          "output_type": "stream",
          "name": "stdout",
          "text": [
            "Drive already mounted at /content/drive; to attempt to forcibly remount, call drive.mount(\"/content/drive\", force_remount=True).\n"
          ]
        }
      ]
    },
    {
      "cell_type": "code",
      "source": [
        "# Set path to dat location\n",
        "data_path = \"/content/drive/MyDrive/DMT-data/\""
      ],
      "metadata": {
        "id": "s-WPHETS-_hg"
      },
      "execution_count": 6,
      "outputs": []
    },
    {
      "cell_type": "code",
      "source": [
        "pd.set_option('display.max_rows', None)"
      ],
      "metadata": {
        "id": "PhZKjwnhCBqA"
      },
      "execution_count": 4,
      "outputs": []
    },
    {
      "cell_type": "markdown",
      "source": [
        "# Task 2"
      ],
      "metadata": {
        "id": "V1BDz69Lu6dh"
      }
    },
    {
      "cell_type": "code",
      "source": [
        "# load training dataset\n",
        "titanic_train = pd.read_csv(data_path+'train.csv', delimiter = ',')\n",
        "titanic_train.head()"
      ],
      "metadata": {
        "colab": {
          "base_uri": "https://localhost:8080/",
          "height": 302
        },
        "id": "myfcVmBQvpLl",
        "outputId": "d91b430c-1e2b-4719-c942-558c4e5686b8"
      },
      "execution_count": 7,
      "outputs": [
        {
          "output_type": "execute_result",
          "data": {
            "text/plain": [
              "   PassengerId  Survived  Pclass  \\\n",
              "0            1         0       3   \n",
              "1            2         1       1   \n",
              "2            3         1       3   \n",
              "3            4         1       1   \n",
              "4            5         0       3   \n",
              "\n",
              "                                                Name     Sex   Age  SibSp  \\\n",
              "0                            Braund, Mr. Owen Harris    male  22.0      1   \n",
              "1  Cumings, Mrs. John Bradley (Florence Briggs Th...  female  38.0      1   \n",
              "2                             Heikkinen, Miss. Laina  female  26.0      0   \n",
              "3       Futrelle, Mrs. Jacques Heath (Lily May Peel)  female  35.0      1   \n",
              "4                           Allen, Mr. William Henry    male  35.0      0   \n",
              "\n",
              "   Parch            Ticket     Fare Cabin Embarked  \n",
              "0      0         A/5 21171   7.2500   NaN        S  \n",
              "1      0          PC 17599  71.2833   C85        C  \n",
              "2      0  STON/O2. 3101282   7.9250   NaN        S  \n",
              "3      0            113803  53.1000  C123        S  \n",
              "4      0            373450   8.0500   NaN        S  "
            ],
            "text/html": [
              "\n",
              "  <div id=\"df-9b919045-ad28-4703-a1c9-80b37f860150\">\n",
              "    <div class=\"colab-df-container\">\n",
              "      <div>\n",
              "<style scoped>\n",
              "    .dataframe tbody tr th:only-of-type {\n",
              "        vertical-align: middle;\n",
              "    }\n",
              "\n",
              "    .dataframe tbody tr th {\n",
              "        vertical-align: top;\n",
              "    }\n",
              "\n",
              "    .dataframe thead th {\n",
              "        text-align: right;\n",
              "    }\n",
              "</style>\n",
              "<table border=\"1\" class=\"dataframe\">\n",
              "  <thead>\n",
              "    <tr style=\"text-align: right;\">\n",
              "      <th></th>\n",
              "      <th>PassengerId</th>\n",
              "      <th>Survived</th>\n",
              "      <th>Pclass</th>\n",
              "      <th>Name</th>\n",
              "      <th>Sex</th>\n",
              "      <th>Age</th>\n",
              "      <th>SibSp</th>\n",
              "      <th>Parch</th>\n",
              "      <th>Ticket</th>\n",
              "      <th>Fare</th>\n",
              "      <th>Cabin</th>\n",
              "      <th>Embarked</th>\n",
              "    </tr>\n",
              "  </thead>\n",
              "  <tbody>\n",
              "    <tr>\n",
              "      <th>0</th>\n",
              "      <td>1</td>\n",
              "      <td>0</td>\n",
              "      <td>3</td>\n",
              "      <td>Braund, Mr. Owen Harris</td>\n",
              "      <td>male</td>\n",
              "      <td>22.0</td>\n",
              "      <td>1</td>\n",
              "      <td>0</td>\n",
              "      <td>A/5 21171</td>\n",
              "      <td>7.2500</td>\n",
              "      <td>NaN</td>\n",
              "      <td>S</td>\n",
              "    </tr>\n",
              "    <tr>\n",
              "      <th>1</th>\n",
              "      <td>2</td>\n",
              "      <td>1</td>\n",
              "      <td>1</td>\n",
              "      <td>Cumings, Mrs. John Bradley (Florence Briggs Th...</td>\n",
              "      <td>female</td>\n",
              "      <td>38.0</td>\n",
              "      <td>1</td>\n",
              "      <td>0</td>\n",
              "      <td>PC 17599</td>\n",
              "      <td>71.2833</td>\n",
              "      <td>C85</td>\n",
              "      <td>C</td>\n",
              "    </tr>\n",
              "    <tr>\n",
              "      <th>2</th>\n",
              "      <td>3</td>\n",
              "      <td>1</td>\n",
              "      <td>3</td>\n",
              "      <td>Heikkinen, Miss. Laina</td>\n",
              "      <td>female</td>\n",
              "      <td>26.0</td>\n",
              "      <td>0</td>\n",
              "      <td>0</td>\n",
              "      <td>STON/O2. 3101282</td>\n",
              "      <td>7.9250</td>\n",
              "      <td>NaN</td>\n",
              "      <td>S</td>\n",
              "    </tr>\n",
              "    <tr>\n",
              "      <th>3</th>\n",
              "      <td>4</td>\n",
              "      <td>1</td>\n",
              "      <td>1</td>\n",
              "      <td>Futrelle, Mrs. Jacques Heath (Lily May Peel)</td>\n",
              "      <td>female</td>\n",
              "      <td>35.0</td>\n",
              "      <td>1</td>\n",
              "      <td>0</td>\n",
              "      <td>113803</td>\n",
              "      <td>53.1000</td>\n",
              "      <td>C123</td>\n",
              "      <td>S</td>\n",
              "    </tr>\n",
              "    <tr>\n",
              "      <th>4</th>\n",
              "      <td>5</td>\n",
              "      <td>0</td>\n",
              "      <td>3</td>\n",
              "      <td>Allen, Mr. William Henry</td>\n",
              "      <td>male</td>\n",
              "      <td>35.0</td>\n",
              "      <td>0</td>\n",
              "      <td>0</td>\n",
              "      <td>373450</td>\n",
              "      <td>8.0500</td>\n",
              "      <td>NaN</td>\n",
              "      <td>S</td>\n",
              "    </tr>\n",
              "  </tbody>\n",
              "</table>\n",
              "</div>\n",
              "      <button class=\"colab-df-convert\" onclick=\"convertToInteractive('df-9b919045-ad28-4703-a1c9-80b37f860150')\"\n",
              "              title=\"Convert this dataframe to an interactive table.\"\n",
              "              style=\"display:none;\">\n",
              "        \n",
              "  <svg xmlns=\"http://www.w3.org/2000/svg\" height=\"24px\"viewBox=\"0 0 24 24\"\n",
              "       width=\"24px\">\n",
              "    <path d=\"M0 0h24v24H0V0z\" fill=\"none\"/>\n",
              "    <path d=\"M18.56 5.44l.94 2.06.94-2.06 2.06-.94-2.06-.94-.94-2.06-.94 2.06-2.06.94zm-11 1L8.5 8.5l.94-2.06 2.06-.94-2.06-.94L8.5 2.5l-.94 2.06-2.06.94zm10 10l.94 2.06.94-2.06 2.06-.94-2.06-.94-.94-2.06-.94 2.06-2.06.94z\"/><path d=\"M17.41 7.96l-1.37-1.37c-.4-.4-.92-.59-1.43-.59-.52 0-1.04.2-1.43.59L10.3 9.45l-7.72 7.72c-.78.78-.78 2.05 0 2.83L4 21.41c.39.39.9.59 1.41.59.51 0 1.02-.2 1.41-.59l7.78-7.78 2.81-2.81c.8-.78.8-2.07 0-2.86zM5.41 20L4 18.59l7.72-7.72 1.47 1.35L5.41 20z\"/>\n",
              "  </svg>\n",
              "      </button>\n",
              "      \n",
              "  <style>\n",
              "    .colab-df-container {\n",
              "      display:flex;\n",
              "      flex-wrap:wrap;\n",
              "      gap: 12px;\n",
              "    }\n",
              "\n",
              "    .colab-df-convert {\n",
              "      background-color: #E8F0FE;\n",
              "      border: none;\n",
              "      border-radius: 50%;\n",
              "      cursor: pointer;\n",
              "      display: none;\n",
              "      fill: #1967D2;\n",
              "      height: 32px;\n",
              "      padding: 0 0 0 0;\n",
              "      width: 32px;\n",
              "    }\n",
              "\n",
              "    .colab-df-convert:hover {\n",
              "      background-color: #E2EBFA;\n",
              "      box-shadow: 0px 1px 2px rgba(60, 64, 67, 0.3), 0px 1px 3px 1px rgba(60, 64, 67, 0.15);\n",
              "      fill: #174EA6;\n",
              "    }\n",
              "\n",
              "    [theme=dark] .colab-df-convert {\n",
              "      background-color: #3B4455;\n",
              "      fill: #D2E3FC;\n",
              "    }\n",
              "\n",
              "    [theme=dark] .colab-df-convert:hover {\n",
              "      background-color: #434B5C;\n",
              "      box-shadow: 0px 1px 3px 1px rgba(0, 0, 0, 0.15);\n",
              "      filter: drop-shadow(0px 1px 2px rgba(0, 0, 0, 0.3));\n",
              "      fill: #FFFFFF;\n",
              "    }\n",
              "  </style>\n",
              "\n",
              "      <script>\n",
              "        const buttonEl =\n",
              "          document.querySelector('#df-9b919045-ad28-4703-a1c9-80b37f860150 button.colab-df-convert');\n",
              "        buttonEl.style.display =\n",
              "          google.colab.kernel.accessAllowed ? 'block' : 'none';\n",
              "\n",
              "        async function convertToInteractive(key) {\n",
              "          const element = document.querySelector('#df-9b919045-ad28-4703-a1c9-80b37f860150');\n",
              "          const dataTable =\n",
              "            await google.colab.kernel.invokeFunction('convertToInteractive',\n",
              "                                                     [key], {});\n",
              "          if (!dataTable) return;\n",
              "\n",
              "          const docLinkHtml = 'Like what you see? Visit the ' +\n",
              "            '<a target=\"_blank\" href=https://colab.research.google.com/notebooks/data_table.ipynb>data table notebook</a>'\n",
              "            + ' to learn more about interactive tables.';\n",
              "          element.innerHTML = '';\n",
              "          dataTable['output_type'] = 'display_data';\n",
              "          await google.colab.output.renderOutput(dataTable, element);\n",
              "          const docLink = document.createElement('div');\n",
              "          docLink.innerHTML = docLinkHtml;\n",
              "          element.appendChild(docLink);\n",
              "        }\n",
              "      </script>\n",
              "    </div>\n",
              "  </div>\n",
              "  "
            ]
          },
          "metadata": {},
          "execution_count": 7
        }
      ]
    },
    {
      "cell_type": "markdown",
      "source": [
        "###Training data summary"
      ],
      "metadata": {
        "id": "7Il2D00N34Q9"
      }
    },
    {
      "cell_type": "code",
      "source": [
        "titanic_train.info()\n",
        "titanic_train['Age'].describe()"
      ],
      "metadata": {
        "colab": {
          "base_uri": "https://localhost:8080/"
        },
        "id": "yzz8Id0R1joF",
        "outputId": "b291ab88-45dc-44cb-8392-3008b19d7e1e"
      },
      "execution_count": 8,
      "outputs": [
        {
          "output_type": "stream",
          "name": "stdout",
          "text": [
            "<class 'pandas.core.frame.DataFrame'>\n",
            "RangeIndex: 891 entries, 0 to 890\n",
            "Data columns (total 12 columns):\n",
            " #   Column       Non-Null Count  Dtype  \n",
            "---  ------       --------------  -----  \n",
            " 0   PassengerId  891 non-null    int64  \n",
            " 1   Survived     891 non-null    int64  \n",
            " 2   Pclass       891 non-null    int64  \n",
            " 3   Name         891 non-null    object \n",
            " 4   Sex          891 non-null    object \n",
            " 5   Age          714 non-null    float64\n",
            " 6   SibSp        891 non-null    int64  \n",
            " 7   Parch        891 non-null    int64  \n",
            " 8   Ticket       891 non-null    object \n",
            " 9   Fare         891 non-null    float64\n",
            " 10  Cabin        204 non-null    object \n",
            " 11  Embarked     889 non-null    object \n",
            "dtypes: float64(2), int64(5), object(5)\n",
            "memory usage: 83.7+ KB\n"
          ]
        },
        {
          "output_type": "execute_result",
          "data": {
            "text/plain": [
              "count    714.000000\n",
              "mean      29.699118\n",
              "std       14.526497\n",
              "min        0.420000\n",
              "25%       20.125000\n",
              "50%       28.000000\n",
              "75%       38.000000\n",
              "max       80.000000\n",
              "Name: Age, dtype: float64"
            ]
          },
          "metadata": {},
          "execution_count": 8
        }
      ]
    },
    {
      "cell_type": "code",
      "source": [
        "titanic_train['Survived'].value_counts(1)"
      ],
      "metadata": {
        "colab": {
          "base_uri": "https://localhost:8080/"
        },
        "id": "5RgD7l-hKs7O",
        "outputId": "1b2df495-195f-463a-f5fa-58fc2a28ffe8"
      },
      "execution_count": 9,
      "outputs": [
        {
          "output_type": "execute_result",
          "data": {
            "text/plain": [
              "0    0.616162\n",
              "1    0.383838\n",
              "Name: Survived, dtype: float64"
            ]
          },
          "metadata": {},
          "execution_count": 9
        }
      ]
    },
    {
      "cell_type": "code",
      "source": [
        "# passenger class percentage\n",
        "passenger_class = pd.concat([titanic_train['Pclass'].value_counts(), \n",
        "                titanic_train['Pclass'].value_counts(normalize=True).mul(100)],axis=1, keys=('counts','percentage'))\n",
        "passenger_class"
      ],
      "metadata": {
        "colab": {
          "base_uri": "https://localhost:8080/",
          "height": 143
        },
        "id": "XqlpDQcN2Y8t",
        "outputId": "c6acfc84-01f0-4150-bb3a-8dd4a62bc498"
      },
      "execution_count": 10,
      "outputs": [
        {
          "output_type": "execute_result",
          "data": {
            "text/plain": [
              "   counts  percentage\n",
              "3     491   55.106622\n",
              "1     216   24.242424\n",
              "2     184   20.650954"
            ],
            "text/html": [
              "\n",
              "  <div id=\"df-be7f303c-658c-427f-b8a7-0c159767c435\">\n",
              "    <div class=\"colab-df-container\">\n",
              "      <div>\n",
              "<style scoped>\n",
              "    .dataframe tbody tr th:only-of-type {\n",
              "        vertical-align: middle;\n",
              "    }\n",
              "\n",
              "    .dataframe tbody tr th {\n",
              "        vertical-align: top;\n",
              "    }\n",
              "\n",
              "    .dataframe thead th {\n",
              "        text-align: right;\n",
              "    }\n",
              "</style>\n",
              "<table border=\"1\" class=\"dataframe\">\n",
              "  <thead>\n",
              "    <tr style=\"text-align: right;\">\n",
              "      <th></th>\n",
              "      <th>counts</th>\n",
              "      <th>percentage</th>\n",
              "    </tr>\n",
              "  </thead>\n",
              "  <tbody>\n",
              "    <tr>\n",
              "      <th>3</th>\n",
              "      <td>491</td>\n",
              "      <td>55.106622</td>\n",
              "    </tr>\n",
              "    <tr>\n",
              "      <th>1</th>\n",
              "      <td>216</td>\n",
              "      <td>24.242424</td>\n",
              "    </tr>\n",
              "    <tr>\n",
              "      <th>2</th>\n",
              "      <td>184</td>\n",
              "      <td>20.650954</td>\n",
              "    </tr>\n",
              "  </tbody>\n",
              "</table>\n",
              "</div>\n",
              "      <button class=\"colab-df-convert\" onclick=\"convertToInteractive('df-be7f303c-658c-427f-b8a7-0c159767c435')\"\n",
              "              title=\"Convert this dataframe to an interactive table.\"\n",
              "              style=\"display:none;\">\n",
              "        \n",
              "  <svg xmlns=\"http://www.w3.org/2000/svg\" height=\"24px\"viewBox=\"0 0 24 24\"\n",
              "       width=\"24px\">\n",
              "    <path d=\"M0 0h24v24H0V0z\" fill=\"none\"/>\n",
              "    <path d=\"M18.56 5.44l.94 2.06.94-2.06 2.06-.94-2.06-.94-.94-2.06-.94 2.06-2.06.94zm-11 1L8.5 8.5l.94-2.06 2.06-.94-2.06-.94L8.5 2.5l-.94 2.06-2.06.94zm10 10l.94 2.06.94-2.06 2.06-.94-2.06-.94-.94-2.06-.94 2.06-2.06.94z\"/><path d=\"M17.41 7.96l-1.37-1.37c-.4-.4-.92-.59-1.43-.59-.52 0-1.04.2-1.43.59L10.3 9.45l-7.72 7.72c-.78.78-.78 2.05 0 2.83L4 21.41c.39.39.9.59 1.41.59.51 0 1.02-.2 1.41-.59l7.78-7.78 2.81-2.81c.8-.78.8-2.07 0-2.86zM5.41 20L4 18.59l7.72-7.72 1.47 1.35L5.41 20z\"/>\n",
              "  </svg>\n",
              "      </button>\n",
              "      \n",
              "  <style>\n",
              "    .colab-df-container {\n",
              "      display:flex;\n",
              "      flex-wrap:wrap;\n",
              "      gap: 12px;\n",
              "    }\n",
              "\n",
              "    .colab-df-convert {\n",
              "      background-color: #E8F0FE;\n",
              "      border: none;\n",
              "      border-radius: 50%;\n",
              "      cursor: pointer;\n",
              "      display: none;\n",
              "      fill: #1967D2;\n",
              "      height: 32px;\n",
              "      padding: 0 0 0 0;\n",
              "      width: 32px;\n",
              "    }\n",
              "\n",
              "    .colab-df-convert:hover {\n",
              "      background-color: #E2EBFA;\n",
              "      box-shadow: 0px 1px 2px rgba(60, 64, 67, 0.3), 0px 1px 3px 1px rgba(60, 64, 67, 0.15);\n",
              "      fill: #174EA6;\n",
              "    }\n",
              "\n",
              "    [theme=dark] .colab-df-convert {\n",
              "      background-color: #3B4455;\n",
              "      fill: #D2E3FC;\n",
              "    }\n",
              "\n",
              "    [theme=dark] .colab-df-convert:hover {\n",
              "      background-color: #434B5C;\n",
              "      box-shadow: 0px 1px 3px 1px rgba(0, 0, 0, 0.15);\n",
              "      filter: drop-shadow(0px 1px 2px rgba(0, 0, 0, 0.3));\n",
              "      fill: #FFFFFF;\n",
              "    }\n",
              "  </style>\n",
              "\n",
              "      <script>\n",
              "        const buttonEl =\n",
              "          document.querySelector('#df-be7f303c-658c-427f-b8a7-0c159767c435 button.colab-df-convert');\n",
              "        buttonEl.style.display =\n",
              "          google.colab.kernel.accessAllowed ? 'block' : 'none';\n",
              "\n",
              "        async function convertToInteractive(key) {\n",
              "          const element = document.querySelector('#df-be7f303c-658c-427f-b8a7-0c159767c435');\n",
              "          const dataTable =\n",
              "            await google.colab.kernel.invokeFunction('convertToInteractive',\n",
              "                                                     [key], {});\n",
              "          if (!dataTable) return;\n",
              "\n",
              "          const docLinkHtml = 'Like what you see? Visit the ' +\n",
              "            '<a target=\"_blank\" href=https://colab.research.google.com/notebooks/data_table.ipynb>data table notebook</a>'\n",
              "            + ' to learn more about interactive tables.';\n",
              "          element.innerHTML = '';\n",
              "          dataTable['output_type'] = 'display_data';\n",
              "          await google.colab.output.renderOutput(dataTable, element);\n",
              "          const docLink = document.createElement('div');\n",
              "          docLink.innerHTML = docLinkHtml;\n",
              "          element.appendChild(docLink);\n",
              "        }\n",
              "      </script>\n",
              "    </div>\n",
              "  </div>\n",
              "  "
            ]
          },
          "metadata": {},
          "execution_count": 10
        }
      ]
    },
    {
      "cell_type": "code",
      "source": [
        "#number of missing data\n",
        "titanic_train.isna().sum()"
      ],
      "metadata": {
        "colab": {
          "base_uri": "https://localhost:8080/"
        },
        "id": "byZTpGDnHBeJ",
        "outputId": "e0f7951a-710a-4369-878e-128e87fbd04e"
      },
      "execution_count": 11,
      "outputs": [
        {
          "output_type": "execute_result",
          "data": {
            "text/plain": [
              "PassengerId      0\n",
              "Survived         0\n",
              "Pclass           0\n",
              "Name             0\n",
              "Sex              0\n",
              "Age            177\n",
              "SibSp            0\n",
              "Parch            0\n",
              "Ticket           0\n",
              "Fare             0\n",
              "Cabin          687\n",
              "Embarked         2\n",
              "dtype: int64"
            ]
          },
          "metadata": {},
          "execution_count": 11
        }
      ]
    },
    {
      "cell_type": "code",
      "source": [
        "# to find the unique values in columns\n",
        "for col in titanic_train.columns:\n",
        "    print(col, len(titanic_train[col].unique()))"
      ],
      "metadata": {
        "colab": {
          "base_uri": "https://localhost:8080/"
        },
        "id": "SR-aNgwt68-K",
        "outputId": "6e0410df-2ff8-4847-cc58-9f3bdeb530a6"
      },
      "execution_count": 12,
      "outputs": [
        {
          "output_type": "stream",
          "name": "stdout",
          "text": [
            "PassengerId 891\n",
            "Survived 2\n",
            "Pclass 3\n",
            "Name 891\n",
            "Sex 2\n",
            "Age 89\n",
            "SibSp 7\n",
            "Parch 7\n",
            "Ticket 681\n",
            "Fare 248\n",
            "Cabin 148\n",
            "Embarked 4\n"
          ]
        }
      ]
    },
    {
      "cell_type": "markdown",
      "source": [
        "Initial investigation in the dataset shows that 55.11% of passengers are in class 3, 20.65% are in class 2, and 24.24% are in class 1; besides, the average age of passengers is 29.70 years old, and 38.38% of the passengers survived."
      ],
      "metadata": {
        "id": "ORjznyiAQPUT"
      }
    },
    {
      "cell_type": "markdown",
      "source": [
        "# Plots\n",
        "To predict survived in the test data,\n",
        "plots are demonstrated to figure out the relations between survived and the\n",
        "attributes in the training data."
      ],
      "metadata": {
        "id": "EkdKDJxCSP1y"
      }
    },
    {
      "cell_type": "code",
      "source": [
        "sns.catplot(x='Pclass', hue='Survived', data=titanic_train, kind='count', palette=sns.color_palette(['#9FE2BF', 'green']))\n",
        "plt.show()"
      ],
      "metadata": {
        "colab": {
          "base_uri": "https://localhost:8080/",
          "height": 369
        },
        "id": "PDTuW_rpoaSR",
        "outputId": "8261fce9-9a31-4cf5-c43f-1bc17d756bc1"
      },
      "execution_count": 13,
      "outputs": [
        {
          "output_type": "display_data",
          "data": {
            "text/plain": [
              "<Figure size 411.875x360 with 1 Axes>"
            ],
            "image/png": "[encoded data removed]"
          },
          "metadata": {
            "needs_background": "light"
          }
        }
      ]
    },
    {
      "cell_type": "code",
      "source": [
        "sns.catplot(x='Sex', hue='Survived', data=titanic_train, kind='count', palette=sns.color_palette(['#9FE2BF', 'green']))\n",
        "plt.show()"
      ],
      "metadata": {
        "colab": {
          "base_uri": "https://localhost:8080/",
          "height": 369
        },
        "id": "THypsRbvpmYr",
        "outputId": "118824e2-4385-4180-d804-fd8f708b514a"
      },
      "execution_count": 14,
      "outputs": [
        {
          "output_type": "display_data",
          "data": {
            "text/plain": [
              "<Figure size 411.875x360 with 1 Axes>"
            ],
            "image/png": "[encoded data removed]"
          },
          "metadata": {
            "needs_background": "light"
          }
        }
      ]
    },
    {
      "cell_type": "code",
      "source": [
        "# Embarked and Survived\n",
        "sns.catplot(x='Embarked', hue='Survived', data=titanic_train, kind='count', palette=sns.color_palette(['#9FE2BF', 'green']))\n",
        "plt.show()"
      ],
      "metadata": {
        "colab": {
          "base_uri": "https://localhost:8080/",
          "height": 369
        },
        "id": "It_t1187qM6k",
        "outputId": "7061012f-d1d1-4d3f-c0d3-fc432cb162d0"
      },
      "execution_count": 15,
      "outputs": [
        {
          "output_type": "display_data",
          "data": {
            "text/plain": [
              "<Figure size 411.875x360 with 1 Axes>"
            ],
            "image/png": "[encoded data removed]"
          },
          "metadata": {
            "needs_background": "light"
          }
        }
      ]
    },
    {
      "cell_type": "markdown",
      "source": [
        "### Data Preprocessed"
      ],
      "metadata": {
        "id": "PWO1i10MVEPF"
      }
    },
    {
      "cell_type": "code",
      "source": [
        "# drop columns: cabin, name, ticket\n",
        "titanic_train.drop(columns= ['Name', 'Ticket', 'Cabin'], inplace= True)\n",
        "\n",
        "# replace age missing values with the mean\n",
        "mean_age = titanic_train.Age.mean()\n",
        "titanic_train.Age.fillna(mean_age, inplace = True)\n",
        "mean_age\n",
        "\n",
        "# replace embark missing values with the mode\n",
        "mode_embark = titanic_train.Embarked.mode()[0]\n",
        "titanic_train.Embarked.fillna(mode_embark, inplace = True)\n",
        "titanic_train.Embarked.mode()\n",
        "\n",
        "titanic_train.isna().sum()"
      ],
      "metadata": {
        "colab": {
          "base_uri": "https://localhost:8080/"
        },
        "id": "ypvBbp6yC_-N",
        "outputId": "c495f380-f03a-4670-9e36-fcf4b61cf978"
      },
      "execution_count": 16,
      "outputs": [
        {
          "output_type": "execute_result",
          "data": {
            "text/plain": [
              "PassengerId    0\n",
              "Survived       0\n",
              "Pclass         0\n",
              "Sex            0\n",
              "Age            0\n",
              "SibSp          0\n",
              "Parch          0\n",
              "Fare           0\n",
              "Embarked       0\n",
              "dtype: int64"
            ]
          },
          "metadata": {},
          "execution_count": 16
        }
      ]
    },
    {
      "cell_type": "markdown",
      "source": [
        "\"Age\" attribute contains 177 missing values, they are\n",
        "replaced with average of this column’s values, 29.70. The next attribute that\n",
        "has missing values is \"Embarked\", which is port of embarkation, and its type is\n",
        "object. These missing values are replaced with the mode of this column’s values,\n",
        "which is \"S\"."
      ],
      "metadata": {
        "id": "SviH_9poQmTz"
      }
    },
    {
      "cell_type": "code",
      "source": [
        "# replace data in sex to 0,1\n",
        "titanic_train.Sex.replace('male', 0, inplace = True)\n",
        "titanic_train.Sex.replace('female', 1, inplace = True)\n",
        "\n",
        "# replace data in embarked to 0,1,2\n",
        "titanic_train.Embarked.replace('S', 0, inplace = True)\n",
        "titanic_train.Embarked.replace('C', 1, inplace = True)\n",
        "titanic_train.Embarked.replace('Q', 2, inplace = True)\n",
        "\n",
        "titanic_train"
      ],
      "metadata": {
        "colab": {
          "base_uri": "https://localhost:8080/",
          "height": 423
        },
        "id": "9nuUM5_KGtDM",
        "outputId": "9ad0f38c-b8fc-47bd-e84e-b91e5acdae38"
      },
      "execution_count": 17,
      "outputs": [
        {
          "output_type": "execute_result",
          "data": {
            "text/plain": [
              "     PassengerId  Survived  Pclass  Sex        Age  SibSp  Parch     Fare  \\\n",
              "0              1         0       3    0  22.000000      1      0   7.2500   \n",
              "1              2         1       1    1  38.000000      1      0  71.2833   \n",
              "2              3         1       3    1  26.000000      0      0   7.9250   \n",
              "3              4         1       1    1  35.000000      1      0  53.1000   \n",
              "4              5         0       3    0  35.000000      0      0   8.0500   \n",
              "..           ...       ...     ...  ...        ...    ...    ...      ...   \n",
              "886          887         0       2    0  27.000000      0      0  13.0000   \n",
              "887          888         1       1    1  19.000000      0      0  30.0000   \n",
              "888          889         0       3    1  29.699118      1      2  23.4500   \n",
              "889          890         1       1    0  26.000000      0      0  30.0000   \n",
              "890          891         0       3    0  32.000000      0      0   7.7500   \n",
              "\n",
              "     Embarked  \n",
              "0           0  \n",
              "1           1  \n",
              "2           0  \n",
              "3           0  \n",
              "4           0  \n",
              "..        ...  \n",
              "886         0  \n",
              "887         0  \n",
              "888         0  \n",
              "889         1  \n",
              "890         2  \n",
              "\n",
              "[891 rows x 9 columns]"
            ],
            "text/html": [
              "\n",
              "  <div id=\"df-db8e71cf-b759-47f6-86c5-5f738fd80077\">\n",
              "    <div class=\"colab-df-container\">\n",
              "      <div>\n",
              "<style scoped>\n",
              "    .dataframe tbody tr th:only-of-type {\n",
              "        vertical-align: middle;\n",
              "    }\n",
              "\n",
              "    .dataframe tbody tr th {\n",
              "        vertical-align: top;\n",
              "    }\n",
              "\n",
              "    .dataframe thead th {\n",
              "        text-align: right;\n",
              "    }\n",
              "</style>\n",
              "<table border=\"1\" class=\"dataframe\">\n",
              "  <thead>\n",
              "    <tr style=\"text-align: right;\">\n",
              "      <th></th>\n",
              "      <th>PassengerId</th>\n",
              "      <th>Survived</th>\n",
              "      <th>Pclass</th>\n",
              "      <th>Sex</th>\n",
              "      <th>Age</th>\n",
              "      <th>SibSp</th>\n",
              "      <th>Parch</th>\n",
              "      <th>Fare</th>\n",
              "      <th>Embarked</th>\n",
              "    </tr>\n",
              "  </thead>\n",
              "  <tbody>\n",
              "    <tr>\n",
              "      <th>0</th>\n",
              "      <td>1</td>\n",
              "      <td>0</td>\n",
              "      <td>3</td>\n",
              "      <td>0</td>\n",
              "      <td>22.000000</td>\n",
              "      <td>1</td>\n",
              "      <td>0</td>\n",
              "      <td>7.2500</td>\n",
              "      <td>0</td>\n",
              "    </tr>\n",
              "    <tr>\n",
              "      <th>1</th>\n",
              "      <td>2</td>\n",
              "      <td>1</td>\n",
              "      <td>1</td>\n",
              "      <td>1</td>\n",
              "      <td>38.000000</td>\n",
              "      <td>1</td>\n",
              "      <td>0</td>\n",
              "      <td>71.2833</td>\n",
              "      <td>1</td>\n",
              "    </tr>\n",
              "    <tr>\n",
              "      <th>2</th>\n",
              "      <td>3</td>\n",
              "      <td>1</td>\n",
              "      <td>3</td>\n",
              "      <td>1</td>\n",
              "      <td>26.000000</td>\n",
              "      <td>0</td>\n",
              "      <td>0</td>\n",
              "      <td>7.9250</td>\n",
              "      <td>0</td>\n",
              "    </tr>\n",
              "    <tr>\n",
              "      <th>3</th>\n",
              "      <td>4</td>\n",
              "      <td>1</td>\n",
              "      <td>1</td>\n",
              "      <td>1</td>\n",
              "      <td>35.000000</td>\n",
              "      <td>1</td>\n",
              "      <td>0</td>\n",
              "      <td>53.1000</td>\n",
              "      <td>0</td>\n",
              "    </tr>\n",
              "    <tr>\n",
              "      <th>4</th>\n",
              "      <td>5</td>\n",
              "      <td>0</td>\n",
              "      <td>3</td>\n",
              "      <td>0</td>\n",
              "      <td>35.000000</td>\n",
              "      <td>0</td>\n",
              "      <td>0</td>\n",
              "      <td>8.0500</td>\n",
              "      <td>0</td>\n",
              "    </tr>\n",
              "    <tr>\n",
              "      <th>...</th>\n",
              "      <td>...</td>\n",
              "      <td>...</td>\n",
              "      <td>...</td>\n",
              "      <td>...</td>\n",
              "      <td>...</td>\n",
              "      <td>...</td>\n",
              "      <td>...</td>\n",
              "      <td>...</td>\n",
              "      <td>...</td>\n",
              "    </tr>\n",
              "    <tr>\n",
              "      <th>886</th>\n",
              "      <td>887</td>\n",
              "      <td>0</td>\n",
              "      <td>2</td>\n",
              "      <td>0</td>\n",
              "      <td>27.000000</td>\n",
              "      <td>0</td>\n",
              "      <td>0</td>\n",
              "      <td>13.0000</td>\n",
              "      <td>0</td>\n",
              "    </tr>\n",
              "    <tr>\n",
              "      <th>887</th>\n",
              "      <td>888</td>\n",
              "      <td>1</td>\n",
              "      <td>1</td>\n",
              "      <td>1</td>\n",
              "      <td>19.000000</td>\n",
              "      <td>0</td>\n",
              "      <td>0</td>\n",
              "      <td>30.0000</td>\n",
              "      <td>0</td>\n",
              "    </tr>\n",
              "    <tr>\n",
              "      <th>888</th>\n",
              "      <td>889</td>\n",
              "      <td>0</td>\n",
              "      <td>3</td>\n",
              "      <td>1</td>\n",
              "      <td>29.699118</td>\n",
              "      <td>1</td>\n",
              "      <td>2</td>\n",
              "      <td>23.4500</td>\n",
              "      <td>0</td>\n",
              "    </tr>\n",
              "    <tr>\n",
              "      <th>889</th>\n",
              "      <td>890</td>\n",
              "      <td>1</td>\n",
              "      <td>1</td>\n",
              "      <td>0</td>\n",
              "      <td>26.000000</td>\n",
              "      <td>0</td>\n",
              "      <td>0</td>\n",
              "      <td>30.0000</td>\n",
              "      <td>1</td>\n",
              "    </tr>\n",
              "    <tr>\n",
              "      <th>890</th>\n",
              "      <td>891</td>\n",
              "      <td>0</td>\n",
              "      <td>3</td>\n",
              "      <td>0</td>\n",
              "      <td>32.000000</td>\n",
              "      <td>0</td>\n",
              "      <td>0</td>\n",
              "      <td>7.7500</td>\n",
              "      <td>2</td>\n",
              "    </tr>\n",
              "  </tbody>\n",
              "</table>\n",
              "<p>891 rows × 9 columns</p>\n",
              "</div>\n",
              "      <button class=\"colab-df-convert\" onclick=\"convertToInteractive('df-db8e71cf-b759-47f6-86c5-5f738fd80077')\"\n",
              "              title=\"Convert this dataframe to an interactive table.\"\n",
              "              style=\"display:none;\">\n",
              "        \n",
              "  <svg xmlns=\"http://www.w3.org/2000/svg\" height=\"24px\"viewBox=\"0 0 24 24\"\n",
              "       width=\"24px\">\n",
              "    <path d=\"M0 0h24v24H0V0z\" fill=\"none\"/>\n",
              "    <path d=\"M18.56 5.44l.94 2.06.94-2.06 2.06-.94-2.06-.94-.94-2.06-.94 2.06-2.06.94zm-11 1L8.5 8.5l.94-2.06 2.06-.94-2.06-.94L8.5 2.5l-.94 2.06-2.06.94zm10 10l.94 2.06.94-2.06 2.06-.94-2.06-.94-.94-2.06-.94 2.06-2.06.94z\"/><path d=\"M17.41 7.96l-1.37-1.37c-.4-.4-.92-.59-1.43-.59-.52 0-1.04.2-1.43.59L10.3 9.45l-7.72 7.72c-.78.78-.78 2.05 0 2.83L4 21.41c.39.39.9.59 1.41.59.51 0 1.02-.2 1.41-.59l7.78-7.78 2.81-2.81c.8-.78.8-2.07 0-2.86zM5.41 20L4 18.59l7.72-7.72 1.47 1.35L5.41 20z\"/>\n",
              "  </svg>\n",
              "      </button>\n",
              "      \n",
              "  <style>\n",
              "    .colab-df-container {\n",
              "      display:flex;\n",
              "      flex-wrap:wrap;\n",
              "      gap: 12px;\n",
              "    }\n",
              "\n",
              "    .colab-df-convert {\n",
              "      background-color: #E8F0FE;\n",
              "      border: none;\n",
              "      border-radius: 50%;\n",
              "      cursor: pointer;\n",
              "      display: none;\n",
              "      fill: #1967D2;\n",
              "      height: 32px;\n",
              "      padding: 0 0 0 0;\n",
              "      width: 32px;\n",
              "    }\n",
              "\n",
              "    .colab-df-convert:hover {\n",
              "      background-color: #E2EBFA;\n",
              "      box-shadow: 0px 1px 2px rgba(60, 64, 67, 0.3), 0px 1px 3px 1px rgba(60, 64, 67, 0.15);\n",
              "      fill: #174EA6;\n",
              "    }\n",
              "\n",
              "    [theme=dark] .colab-df-convert {\n",
              "      background-color: #3B4455;\n",
              "      fill: #D2E3FC;\n",
              "    }\n",
              "\n",
              "    [theme=dark] .colab-df-convert:hover {\n",
              "      background-color: #434B5C;\n",
              "      box-shadow: 0px 1px 3px 1px rgba(0, 0, 0, 0.15);\n",
              "      filter: drop-shadow(0px 1px 2px rgba(0, 0, 0, 0.3));\n",
              "      fill: #FFFFFF;\n",
              "    }\n",
              "  </style>\n",
              "\n",
              "      <script>\n",
              "        const buttonEl =\n",
              "          document.querySelector('#df-db8e71cf-b759-47f6-86c5-5f738fd80077 button.colab-df-convert');\n",
              "        buttonEl.style.display =\n",
              "          google.colab.kernel.accessAllowed ? 'block' : 'none';\n",
              "\n",
              "        async function convertToInteractive(key) {\n",
              "          const element = document.querySelector('#df-db8e71cf-b759-47f6-86c5-5f738fd80077');\n",
              "          const dataTable =\n",
              "            await google.colab.kernel.invokeFunction('convertToInteractive',\n",
              "                                                     [key], {});\n",
              "          if (!dataTable) return;\n",
              "\n",
              "          const docLinkHtml = 'Like what you see? Visit the ' +\n",
              "            '<a target=\"_blank\" href=https://colab.research.google.com/notebooks/data_table.ipynb>data table notebook</a>'\n",
              "            + ' to learn more about interactive tables.';\n",
              "          element.innerHTML = '';\n",
              "          dataTable['output_type'] = 'display_data';\n",
              "          await google.colab.output.renderOutput(dataTable, element);\n",
              "          const docLink = document.createElement('div');\n",
              "          docLink.innerHTML = docLinkHtml;\n",
              "          element.appendChild(docLink);\n",
              "        }\n",
              "      </script>\n",
              "    </div>\n",
              "  </div>\n",
              "  "
            ]
          },
          "metadata": {},
          "execution_count": 17
        }
      ]
    },
    {
      "cell_type": "markdown",
      "source": [
        "# Heatmap\n",
        "shows the correlation (relationship) between\n",
        "attributes. The best relationship among \"survival\" and\n",
        "other features is \"sex\", and\n",
        "then \"Fare\" and \"Embarked\"\n",
        "in the Titanic train data."
      ],
      "metadata": {
        "id": "gTINN0LzSftk"
      }
    },
    {
      "cell_type": "code",
      "source": [
        "corr = titanic_train.corr()\n",
        "sns.heatmap(corr, xticklabels=corr.columns, yticklabels=corr.columns)"
      ],
      "metadata": {
        "id": "uI90acVzV4vr",
        "colab": {
          "base_uri": "https://localhost:8080/",
          "height": 338
        },
        "outputId": "28a4ec6c-4c7e-49e7-f6e0-937a5e1120ba"
      },
      "execution_count": 18,
      "outputs": [
        {
          "output_type": "execute_result",
          "data": {
            "text/plain": [
              "<matplotlib.axes._subplots.AxesSubplot at 0x7f998c56f750>"
            ]
          },
          "metadata": {},
          "execution_count": 18
        },
        {
          "output_type": "display_data",
          "data": {
            "text/plain": [
              "<Figure size 432x288 with 2 Axes>"
            ],
            "image/png": "[encoded data removed]"
          },
          "metadata": {
            "needs_background": "light"
          }
        }
      ]
    },
    {
      "cell_type": "code",
      "source": [
        "titanic_test = pd.read_csv(data_path+'test.csv', delimiter = ',')\n",
        "titanic_test.head()"
      ],
      "metadata": {
        "id": "pfdS-l9la7Nn",
        "colab": {
          "base_uri": "https://localhost:8080/",
          "height": 206
        },
        "outputId": "3d58d9fd-77d0-4a04-f14c-7fb1f3615e38"
      },
      "execution_count": 19,
      "outputs": [
        {
          "output_type": "execute_result",
          "data": {
            "text/plain": [
              "   PassengerId  Pclass                                          Name     Sex  \\\n",
              "0          892       3                              Kelly, Mr. James    male   \n",
              "1          893       3              Wilkes, Mrs. James (Ellen Needs)  female   \n",
              "2          894       2                     Myles, Mr. Thomas Francis    male   \n",
              "3          895       3                              Wirz, Mr. Albert    male   \n",
              "4          896       3  Hirvonen, Mrs. Alexander (Helga E Lindqvist)  female   \n",
              "\n",
              "    Age  SibSp  Parch   Ticket     Fare Cabin Embarked  \n",
              "0  34.5      0      0   330911   7.8292   NaN        Q  \n",
              "1  47.0      1      0   363272   7.0000   NaN        S  \n",
              "2  62.0      0      0   240276   9.6875   NaN        Q  \n",
              "3  27.0      0      0   315154   8.6625   NaN        S  \n",
              "4  22.0      1      1  3101298  12.2875   NaN        S  "
            ],
            "text/html": [
              "\n",
              "  <div id=\"df-0193f9ea-e63f-48b2-bb0e-7553bc356f61\">\n",
              "    <div class=\"colab-df-container\">\n",
              "      <div>\n",
              "<style scoped>\n",
              "    .dataframe tbody tr th:only-of-type {\n",
              "        vertical-align: middle;\n",
              "    }\n",
              "\n",
              "    .dataframe tbody tr th {\n",
              "        vertical-align: top;\n",
              "    }\n",
              "\n",
              "    .dataframe thead th {\n",
              "        text-align: right;\n",
              "    }\n",
              "</style>\n",
              "<table border=\"1\" class=\"dataframe\">\n",
              "  <thead>\n",
              "    <tr style=\"text-align: right;\">\n",
              "      <th></th>\n",
              "      <th>PassengerId</th>\n",
              "      <th>Pclass</th>\n",
              "      <th>Name</th>\n",
              "      <th>Sex</th>\n",
              "      <th>Age</th>\n",
              "      <th>SibSp</th>\n",
              "      <th>Parch</th>\n",
              "      <th>Ticket</th>\n",
              "      <th>Fare</th>\n",
              "      <th>Cabin</th>\n",
              "      <th>Embarked</th>\n",
              "    </tr>\n",
              "  </thead>\n",
              "  <tbody>\n",
              "    <tr>\n",
              "      <th>0</th>\n",
              "      <td>892</td>\n",
              "      <td>3</td>\n",
              "      <td>Kelly, Mr. James</td>\n",
              "      <td>male</td>\n",
              "      <td>34.5</td>\n",
              "      <td>0</td>\n",
              "      <td>0</td>\n",
              "      <td>330911</td>\n",
              "      <td>7.8292</td>\n",
              "      <td>NaN</td>\n",
              "      <td>Q</td>\n",
              "    </tr>\n",
              "    <tr>\n",
              "      <th>1</th>\n",
              "      <td>893</td>\n",
              "      <td>3</td>\n",
              "      <td>Wilkes, Mrs. James (Ellen Needs)</td>\n",
              "      <td>female</td>\n",
              "      <td>47.0</td>\n",
              "      <td>1</td>\n",
              "      <td>0</td>\n",
              "      <td>363272</td>\n",
              "      <td>7.0000</td>\n",
              "      <td>NaN</td>\n",
              "      <td>S</td>\n",
              "    </tr>\n",
              "    <tr>\n",
              "      <th>2</th>\n",
              "      <td>894</td>\n",
              "      <td>2</td>\n",
              "      <td>Myles, Mr. Thomas Francis</td>\n",
              "      <td>male</td>\n",
              "      <td>62.0</td>\n",
              "      <td>0</td>\n",
              "      <td>0</td>\n",
              "      <td>240276</td>\n",
              "      <td>9.6875</td>\n",
              "      <td>NaN</td>\n",
              "      <td>Q</td>\n",
              "    </tr>\n",
              "    <tr>\n",
              "      <th>3</th>\n",
              "      <td>895</td>\n",
              "      <td>3</td>\n",
              "      <td>Wirz, Mr. Albert</td>\n",
              "      <td>male</td>\n",
              "      <td>27.0</td>\n",
              "      <td>0</td>\n",
              "      <td>0</td>\n",
              "      <td>315154</td>\n",
              "      <td>8.6625</td>\n",
              "      <td>NaN</td>\n",
              "      <td>S</td>\n",
              "    </tr>\n",
              "    <tr>\n",
              "      <th>4</th>\n",
              "      <td>896</td>\n",
              "      <td>3</td>\n",
              "      <td>Hirvonen, Mrs. Alexander (Helga E Lindqvist)</td>\n",
              "      <td>female</td>\n",
              "      <td>22.0</td>\n",
              "      <td>1</td>\n",
              "      <td>1</td>\n",
              "      <td>3101298</td>\n",
              "      <td>12.2875</td>\n",
              "      <td>NaN</td>\n",
              "      <td>S</td>\n",
              "    </tr>\n",
              "  </tbody>\n",
              "</table>\n",
              "</div>\n",
              "      <button class=\"colab-df-convert\" onclick=\"convertToInteractive('df-0193f9ea-e63f-48b2-bb0e-7553bc356f61')\"\n",
              "              title=\"Convert this dataframe to an interactive table.\"\n",
              "              style=\"display:none;\">\n",
              "        \n",
              "  <svg xmlns=\"http://www.w3.org/2000/svg\" height=\"24px\"viewBox=\"0 0 24 24\"\n",
              "       width=\"24px\">\n",
              "    <path d=\"M0 0h24v24H0V0z\" fill=\"none\"/>\n",
              "    <path d=\"M18.56 5.44l.94 2.06.94-2.06 2.06-.94-2.06-.94-.94-2.06-.94 2.06-2.06.94zm-11 1L8.5 8.5l.94-2.06 2.06-.94-2.06-.94L8.5 2.5l-.94 2.06-2.06.94zm10 10l.94 2.06.94-2.06 2.06-.94-2.06-.94-.94-2.06-.94 2.06-2.06.94z\"/><path d=\"M17.41 7.96l-1.37-1.37c-.4-.4-.92-.59-1.43-.59-.52 0-1.04.2-1.43.59L10.3 9.45l-7.72 7.72c-.78.78-.78 2.05 0 2.83L4 21.41c.39.39.9.59 1.41.59.51 0 1.02-.2 1.41-.59l7.78-7.78 2.81-2.81c.8-.78.8-2.07 0-2.86zM5.41 20L4 18.59l7.72-7.72 1.47 1.35L5.41 20z\"/>\n",
              "  </svg>\n",
              "      </button>\n",
              "      \n",
              "  <style>\n",
              "    .colab-df-container {\n",
              "      display:flex;\n",
              "      flex-wrap:wrap;\n",
              "      gap: 12px;\n",
              "    }\n",
              "\n",
              "    .colab-df-convert {\n",
              "      background-color: #E8F0FE;\n",
              "      border: none;\n",
              "      border-radius: 50%;\n",
              "      cursor: pointer;\n",
              "      display: none;\n",
              "      fill: #1967D2;\n",
              "      height: 32px;\n",
              "      padding: 0 0 0 0;\n",
              "      width: 32px;\n",
              "    }\n",
              "\n",
              "    .colab-df-convert:hover {\n",
              "      background-color: #E2EBFA;\n",
              "      box-shadow: 0px 1px 2px rgba(60, 64, 67, 0.3), 0px 1px 3px 1px rgba(60, 64, 67, 0.15);\n",
              "      fill: #174EA6;\n",
              "    }\n",
              "\n",
              "    [theme=dark] .colab-df-convert {\n",
              "      background-color: #3B4455;\n",
              "      fill: #D2E3FC;\n",
              "    }\n",
              "\n",
              "    [theme=dark] .colab-df-convert:hover {\n",
              "      background-color: #434B5C;\n",
              "      box-shadow: 0px 1px 3px 1px rgba(0, 0, 0, 0.15);\n",
              "      filter: drop-shadow(0px 1px 2px rgba(0, 0, 0, 0.3));\n",
              "      fill: #FFFFFF;\n",
              "    }\n",
              "  </style>\n",
              "\n",
              "      <script>\n",
              "        const buttonEl =\n",
              "          document.querySelector('#df-0193f9ea-e63f-48b2-bb0e-7553bc356f61 button.colab-df-convert');\n",
              "        buttonEl.style.display =\n",
              "          google.colab.kernel.accessAllowed ? 'block' : 'none';\n",
              "\n",
              "        async function convertToInteractive(key) {\n",
              "          const element = document.querySelector('#df-0193f9ea-e63f-48b2-bb0e-7553bc356f61');\n",
              "          const dataTable =\n",
              "            await google.colab.kernel.invokeFunction('convertToInteractive',\n",
              "                                                     [key], {});\n",
              "          if (!dataTable) return;\n",
              "\n",
              "          const docLinkHtml = 'Like what you see? Visit the ' +\n",
              "            '<a target=\"_blank\" href=https://colab.research.google.com/notebooks/data_table.ipynb>data table notebook</a>'\n",
              "            + ' to learn more about interactive tables.';\n",
              "          element.innerHTML = '';\n",
              "          dataTable['output_type'] = 'display_data';\n",
              "          await google.colab.output.renderOutput(dataTable, element);\n",
              "          const docLink = document.createElement('div');\n",
              "          docLink.innerHTML = docLinkHtml;\n",
              "          element.appendChild(docLink);\n",
              "        }\n",
              "      </script>\n",
              "    </div>\n",
              "  </div>\n",
              "  "
            ]
          },
          "metadata": {},
          "execution_count": 19
        }
      ]
    },
    {
      "cell_type": "code",
      "source": [
        "# drop columns: cabin, name, ticket\n",
        "titanic_test.drop(columns= ['Name', 'Ticket', 'Cabin'], inplace= True)\n",
        "\n",
        "# replace data in sex to 0,1\n",
        "titanic_test.Sex.replace('male', 0, inplace = True)\n",
        "titanic_test.Sex.replace('female', 1, inplace = True)\n",
        "\n",
        "# replace data in embarked to 0,1,2\n",
        "titanic_test.Embarked.replace('S', 0, inplace = True)\n",
        "titanic_test.Embarked.replace('C', 1, inplace = True)\n",
        "titanic_test.Embarked.replace('Q', 2, inplace = True)\n",
        "\n",
        "titanic_test"
      ],
      "metadata": {
        "id": "1nwaalNxcsXK",
        "colab": {
          "base_uri": "https://localhost:8080/",
          "height": 423
        },
        "outputId": "4397c4a1-945b-42a0-8ca1-4323d74d0cc1"
      },
      "execution_count": 20,
      "outputs": [
        {
          "output_type": "execute_result",
          "data": {
            "text/plain": [
              "     PassengerId  Pclass  Sex   Age  SibSp  Parch      Fare  Embarked\n",
              "0            892       3    0  34.5      0      0    7.8292         2\n",
              "1            893       3    1  47.0      1      0    7.0000         0\n",
              "2            894       2    0  62.0      0      0    9.6875         2\n",
              "3            895       3    0  27.0      0      0    8.6625         0\n",
              "4            896       3    1  22.0      1      1   12.2875         0\n",
              "..           ...     ...  ...   ...    ...    ...       ...       ...\n",
              "413         1305       3    0   NaN      0      0    8.0500         0\n",
              "414         1306       1    1  39.0      0      0  108.9000         1\n",
              "415         1307       3    0  38.5      0      0    7.2500         0\n",
              "416         1308       3    0   NaN      0      0    8.0500         0\n",
              "417         1309       3    0   NaN      1      1   22.3583         1\n",
              "\n",
              "[418 rows x 8 columns]"
            ],
            "text/html": [
              "\n",
              "  <div id=\"df-57c45eb4-d4ff-4ab4-8edf-26b91c6d0209\">\n",
              "    <div class=\"colab-df-container\">\n",
              "      <div>\n",
              "<style scoped>\n",
              "    .dataframe tbody tr th:only-of-type {\n",
              "        vertical-align: middle;\n",
              "    }\n",
              "\n",
              "    .dataframe tbody tr th {\n",
              "        vertical-align: top;\n",
              "    }\n",
              "\n",
              "    .dataframe thead th {\n",
              "        text-align: right;\n",
              "    }\n",
              "</style>\n",
              "<table border=\"1\" class=\"dataframe\">\n",
              "  <thead>\n",
              "    <tr style=\"text-align: right;\">\n",
              "      <th></th>\n",
              "      <th>PassengerId</th>\n",
              "      <th>Pclass</th>\n",
              "      <th>Sex</th>\n",
              "      <th>Age</th>\n",
              "      <th>SibSp</th>\n",
              "      <th>Parch</th>\n",
              "      <th>Fare</th>\n",
              "      <th>Embarked</th>\n",
              "    </tr>\n",
              "  </thead>\n",
              "  <tbody>\n",
              "    <tr>\n",
              "      <th>0</th>\n",
              "      <td>892</td>\n",
              "      <td>3</td>\n",
              "      <td>0</td>\n",
              "      <td>34.5</td>\n",
              "      <td>0</td>\n",
              "      <td>0</td>\n",
              "      <td>7.8292</td>\n",
              "      <td>2</td>\n",
              "    </tr>\n",
              "    <tr>\n",
              "      <th>1</th>\n",
              "      <td>893</td>\n",
              "      <td>3</td>\n",
              "      <td>1</td>\n",
              "      <td>47.0</td>\n",
              "      <td>1</td>\n",
              "      <td>0</td>\n",
              "      <td>7.0000</td>\n",
              "      <td>0</td>\n",
              "    </tr>\n",
              "    <tr>\n",
              "      <th>2</th>\n",
              "      <td>894</td>\n",
              "      <td>2</td>\n",
              "      <td>0</td>\n",
              "      <td>62.0</td>\n",
              "      <td>0</td>\n",
              "      <td>0</td>\n",
              "      <td>9.6875</td>\n",
              "      <td>2</td>\n",
              "    </tr>\n",
              "    <tr>\n",
              "      <th>3</th>\n",
              "      <td>895</td>\n",
              "      <td>3</td>\n",
              "      <td>0</td>\n",
              "      <td>27.0</td>\n",
              "      <td>0</td>\n",
              "      <td>0</td>\n",
              "      <td>8.6625</td>\n",
              "      <td>0</td>\n",
              "    </tr>\n",
              "    <tr>\n",
              "      <th>4</th>\n",
              "      <td>896</td>\n",
              "      <td>3</td>\n",
              "      <td>1</td>\n",
              "      <td>22.0</td>\n",
              "      <td>1</td>\n",
              "      <td>1</td>\n",
              "      <td>12.2875</td>\n",
              "      <td>0</td>\n",
              "    </tr>\n",
              "    <tr>\n",
              "      <th>...</th>\n",
              "      <td>...</td>\n",
              "      <td>...</td>\n",
              "      <td>...</td>\n",
              "      <td>...</td>\n",
              "      <td>...</td>\n",
              "      <td>...</td>\n",
              "      <td>...</td>\n",
              "      <td>...</td>\n",
              "    </tr>\n",
              "    <tr>\n",
              "      <th>413</th>\n",
              "      <td>1305</td>\n",
              "      <td>3</td>\n",
              "      <td>0</td>\n",
              "      <td>NaN</td>\n",
              "      <td>0</td>\n",
              "      <td>0</td>\n",
              "      <td>8.0500</td>\n",
              "      <td>0</td>\n",
              "    </tr>\n",
              "    <tr>\n",
              "      <th>414</th>\n",
              "      <td>1306</td>\n",
              "      <td>1</td>\n",
              "      <td>1</td>\n",
              "      <td>39.0</td>\n",
              "      <td>0</td>\n",
              "      <td>0</td>\n",
              "      <td>108.9000</td>\n",
              "      <td>1</td>\n",
              "    </tr>\n",
              "    <tr>\n",
              "      <th>415</th>\n",
              "      <td>1307</td>\n",
              "      <td>3</td>\n",
              "      <td>0</td>\n",
              "      <td>38.5</td>\n",
              "      <td>0</td>\n",
              "      <td>0</td>\n",
              "      <td>7.2500</td>\n",
              "      <td>0</td>\n",
              "    </tr>\n",
              "    <tr>\n",
              "      <th>416</th>\n",
              "      <td>1308</td>\n",
              "      <td>3</td>\n",
              "      <td>0</td>\n",
              "      <td>NaN</td>\n",
              "      <td>0</td>\n",
              "      <td>0</td>\n",
              "      <td>8.0500</td>\n",
              "      <td>0</td>\n",
              "    </tr>\n",
              "    <tr>\n",
              "      <th>417</th>\n",
              "      <td>1309</td>\n",
              "      <td>3</td>\n",
              "      <td>0</td>\n",
              "      <td>NaN</td>\n",
              "      <td>1</td>\n",
              "      <td>1</td>\n",
              "      <td>22.3583</td>\n",
              "      <td>1</td>\n",
              "    </tr>\n",
              "  </tbody>\n",
              "</table>\n",
              "<p>418 rows × 8 columns</p>\n",
              "</div>\n",
              "      <button class=\"colab-df-convert\" onclick=\"convertToInteractive('df-57c45eb4-d4ff-4ab4-8edf-26b91c6d0209')\"\n",
              "              title=\"Convert this dataframe to an interactive table.\"\n",
              "              style=\"display:none;\">\n",
              "        \n",
              "  <svg xmlns=\"http://www.w3.org/2000/svg\" height=\"24px\"viewBox=\"0 0 24 24\"\n",
              "       width=\"24px\">\n",
              "    <path d=\"M0 0h24v24H0V0z\" fill=\"none\"/>\n",
              "    <path d=\"M18.56 5.44l.94 2.06.94-2.06 2.06-.94-2.06-.94-.94-2.06-.94 2.06-2.06.94zm-11 1L8.5 8.5l.94-2.06 2.06-.94-2.06-.94L8.5 2.5l-.94 2.06-2.06.94zm10 10l.94 2.06.94-2.06 2.06-.94-2.06-.94-.94-2.06-.94 2.06-2.06.94z\"/><path d=\"M17.41 7.96l-1.37-1.37c-.4-.4-.92-.59-1.43-.59-.52 0-1.04.2-1.43.59L10.3 9.45l-7.72 7.72c-.78.78-.78 2.05 0 2.83L4 21.41c.39.39.9.59 1.41.59.51 0 1.02-.2 1.41-.59l7.78-7.78 2.81-2.81c.8-.78.8-2.07 0-2.86zM5.41 20L4 18.59l7.72-7.72 1.47 1.35L5.41 20z\"/>\n",
              "  </svg>\n",
              "      </button>\n",
              "      \n",
              "  <style>\n",
              "    .colab-df-container {\n",
              "      display:flex;\n",
              "      flex-wrap:wrap;\n",
              "      gap: 12px;\n",
              "    }\n",
              "\n",
              "    .colab-df-convert {\n",
              "      background-color: #E8F0FE;\n",
              "      border: none;\n",
              "      border-radius: 50%;\n",
              "      cursor: pointer;\n",
              "      display: none;\n",
              "      fill: #1967D2;\n",
              "      height: 32px;\n",
              "      padding: 0 0 0 0;\n",
              "      width: 32px;\n",
              "    }\n",
              "\n",
              "    .colab-df-convert:hover {\n",
              "      background-color: #E2EBFA;\n",
              "      box-shadow: 0px 1px 2px rgba(60, 64, 67, 0.3), 0px 1px 3px 1px rgba(60, 64, 67, 0.15);\n",
              "      fill: #174EA6;\n",
              "    }\n",
              "\n",
              "    [theme=dark] .colab-df-convert {\n",
              "      background-color: #3B4455;\n",
              "      fill: #D2E3FC;\n",
              "    }\n",
              "\n",
              "    [theme=dark] .colab-df-convert:hover {\n",
              "      background-color: #434B5C;\n",
              "      box-shadow: 0px 1px 3px 1px rgba(0, 0, 0, 0.15);\n",
              "      filter: drop-shadow(0px 1px 2px rgba(0, 0, 0, 0.3));\n",
              "      fill: #FFFFFF;\n",
              "    }\n",
              "  </style>\n",
              "\n",
              "      <script>\n",
              "        const buttonEl =\n",
              "          document.querySelector('#df-57c45eb4-d4ff-4ab4-8edf-26b91c6d0209 button.colab-df-convert');\n",
              "        buttonEl.style.display =\n",
              "          google.colab.kernel.accessAllowed ? 'block' : 'none';\n",
              "\n",
              "        async function convertToInteractive(key) {\n",
              "          const element = document.querySelector('#df-57c45eb4-d4ff-4ab4-8edf-26b91c6d0209');\n",
              "          const dataTable =\n",
              "            await google.colab.kernel.invokeFunction('convertToInteractive',\n",
              "                                                     [key], {});\n",
              "          if (!dataTable) return;\n",
              "\n",
              "          const docLinkHtml = 'Like what you see? Visit the ' +\n",
              "            '<a target=\"_blank\" href=https://colab.research.google.com/notebooks/data_table.ipynb>data table notebook</a>'\n",
              "            + ' to learn more about interactive tables.';\n",
              "          element.innerHTML = '';\n",
              "          dataTable['output_type'] = 'display_data';\n",
              "          await google.colab.output.renderOutput(dataTable, element);\n",
              "          const docLink = document.createElement('div');\n",
              "          docLink.innerHTML = docLinkHtml;\n",
              "          element.appendChild(docLink);\n",
              "        }\n",
              "      </script>\n",
              "    </div>\n",
              "  </div>\n",
              "  "
            ]
          },
          "metadata": {},
          "execution_count": 20
        }
      ]
    },
    {
      "cell_type": "code",
      "source": [
        "mean_fare = titanic_test.Fare.mean()\n",
        "titanic_test.Fare.fillna(mean_fare, inplace = True)"
      ],
      "metadata": {
        "id": "Hx8NvqrKnj60"
      },
      "execution_count": 21,
      "outputs": []
    },
    {
      "cell_type": "code",
      "source": [
        "titanic_test['SibSp'].isnull().sum()\n"
      ],
      "metadata": {
        "id": "O_hjXNdrmLNb",
        "colab": {
          "base_uri": "https://localhost:8080/"
        },
        "outputId": "6647df6d-05bd-4679-d9e8-d96545d9e5bf"
      },
      "execution_count": 22,
      "outputs": [
        {
          "output_type": "execute_result",
          "data": {
            "text/plain": [
              "0"
            ]
          },
          "metadata": {},
          "execution_count": 22
        }
      ]
    },
    {
      "cell_type": "markdown",
      "source": [
        "### Regression models"
      ],
      "metadata": {
        "id": "2tKX1VmYYw5_"
      }
    },
    {
      "cell_type": "code",
      "source": [
        "y = titanic_train[\"Survived\"]\n",
        "features = ['Pclass', 'Sex', 'Parch','Fare','Embarked']\n",
        "X = titanic_train[features]\n",
        "\n",
        "X_test = pd.DataFrame(data=titanic_test,columns= features)\n"
      ],
      "metadata": {
        "id": "zPDvr3G6Y2KS"
      },
      "execution_count": 23,
      "outputs": []
    },
    {
      "cell_type": "markdown",
      "source": [
        "**Random Forrest**"
      ],
      "metadata": {
        "id": "KbuYTyad2Hi_"
      }
    },
    {
      "cell_type": "code",
      "source": [
        "'''\n",
        "Random Forrest model\n",
        "Run the model on the train and data to see the accuracy\n",
        "'''\n",
        "X_t, X_v, y_t, y_v = train_test_split(X, y, test_size=.25, random_state=2)\n",
        "model_RF = RandomForestClassifier( n_estimators=1000, max_depth=3, random_state=2,oob_score = True)\n",
        "model_RF.fit(X_t, y_t)\n",
        "y_pred = model_RF.predict(X_v)\n",
        "Accuracy = accuracy_score(y_v, y_pred)\n",
        "print(\"RF Accuracy: %.2f%%\" % (Accuracy * 100.0))"
      ],
      "metadata": {
        "id": "37xyg2YCgFGW",
        "colab": {
          "base_uri": "https://localhost:8080/"
        },
        "outputId": "4695d4d2-b9f3-482b-d9d4-ed1bc638627a"
      },
      "execution_count": 24,
      "outputs": [
        {
          "output_type": "stream",
          "name": "stdout",
          "text": [
            "RF Accuracy: 78.92%\n"
          ]
        }
      ]
    },
    {
      "cell_type": "code",
      "source": [
        "#predict test data\n",
        "\n",
        "model_RF.fit(X, y)\n",
        "predictions = model_RF.predict(X_test)\n",
        "\n",
        "submission_RF = pd.read_csv(data_path+'gender_submission.csv', delimiter = ',')\n",
        "submission_RF['Survived'] = predictions\n",
        "submission_RF.to_csv('submission_RF.csv', index=False)"
      ],
      "metadata": {
        "id": "wT7bWr6iiI3f"
      },
      "execution_count": 29,
      "outputs": []
    },
    {
      "cell_type": "markdown",
      "source": [
        "**XGB**"
      ],
      "metadata": {
        "id": "aKr2o60x5o5d"
      }
    },
    {
      "cell_type": "code",
      "source": [
        "'''\n",
        "xgb\n",
        "Run the model on the train and data to see the accuracy\n",
        "'''\n",
        "\n",
        "model_xgb = xgboost.XGBClassifier(objective=\"binary:logistic\", n_estimators=100, random_state=42, eval_metric=[\"auc\", \"error\", \"error@0.6\"])\n",
        "model_xgb.fit(X_t, y_t, eval_set=[(X_v, y_v)])\n",
        "y_pred_xgb = model_xgb.predict(X_v)\n",
        "\n",
        "accuracy = accuracy_score(y_v, y_pred_xgb)\n",
        "print(\"Xgb Accuracy: %.2f%%\" % (accuracy * 100.0))"
      ],
      "metadata": {
        "id": "qy_bPhPz5ref",
        "colab": {
          "base_uri": "https://localhost:8080/"
        },
        "outputId": "aca406da-2c87-4019-999f-ca3112a47236"
      },
      "execution_count": 30,
      "outputs": [
        {
          "output_type": "stream",
          "name": "stdout",
          "text": [
            "[0]\tvalidation_0-auc:0.847245\tvalidation_0-error:0.210762\tvalidation_0-error@0.6:0.412556\n",
            "[1]\tvalidation_0-auc:0.84571\tvalidation_0-error:0.210762\tvalidation_0-error@0.6:0.412556\n",
            "[2]\tvalidation_0-auc:0.850855\tvalidation_0-error:0.2287\tvalidation_0-error@0.6:0.251121\n",
            "[3]\tvalidation_0-auc:0.850606\tvalidation_0-error:0.210762\tvalidation_0-error@0.6:0.251121\n",
            "[4]\tvalidation_0-auc:0.849942\tvalidation_0-error:0.2287\tvalidation_0-error@0.6:0.251121\n",
            "[5]\tvalidation_0-auc:0.850108\tvalidation_0-error:0.2287\tvalidation_0-error@0.6:0.251121\n",
            "[6]\tvalidation_0-auc:0.850108\tvalidation_0-error:0.2287\tvalidation_0-error@0.6:0.251121\n",
            "[7]\tvalidation_0-auc:0.850066\tvalidation_0-error:0.2287\tvalidation_0-error@0.6:0.251121\n",
            "[8]\tvalidation_0-auc:0.850066\tvalidation_0-error:0.2287\tvalidation_0-error@0.6:0.251121\n",
            "[9]\tvalidation_0-auc:0.852224\tvalidation_0-error:0.2287\tvalidation_0-error@0.6:0.251121\n",
            "[10]\tvalidation_0-auc:0.848531\tvalidation_0-error:0.2287\tvalidation_0-error@0.6:0.251121\n",
            "[11]\tvalidation_0-auc:0.848448\tvalidation_0-error:0.2287\tvalidation_0-error@0.6:0.251121\n",
            "[12]\tvalidation_0-auc:0.848448\tvalidation_0-error:0.2287\tvalidation_0-error@0.6:0.251121\n",
            "[13]\tvalidation_0-auc:0.851933\tvalidation_0-error:0.2287\tvalidation_0-error@0.6:0.251121\n",
            "[14]\tvalidation_0-auc:0.848448\tvalidation_0-error:0.2287\tvalidation_0-error@0.6:0.251121\n",
            "[15]\tvalidation_0-auc:0.851933\tvalidation_0-error:0.2287\tvalidation_0-error@0.6:0.251121\n",
            "[16]\tvalidation_0-auc:0.851933\tvalidation_0-error:0.2287\tvalidation_0-error@0.6:0.2287\n",
            "[17]\tvalidation_0-auc:0.851933\tvalidation_0-error:0.2287\tvalidation_0-error@0.6:0.2287\n",
            "[18]\tvalidation_0-auc:0.852722\tvalidation_0-error:0.2287\tvalidation_0-error@0.6:0.2287\n",
            "[19]\tvalidation_0-auc:0.852722\tvalidation_0-error:0.2287\tvalidation_0-error@0.6:0.2287\n",
            "[20]\tvalidation_0-auc:0.842723\tvalidation_0-error:0.2287\tvalidation_0-error@0.6:0.2287\n",
            "[21]\tvalidation_0-auc:0.84932\tvalidation_0-error:0.2287\tvalidation_0-error@0.6:0.2287\n",
            "[22]\tvalidation_0-auc:0.855211\tvalidation_0-error:0.2287\tvalidation_0-error@0.6:0.2287\n",
            "[23]\tvalidation_0-auc:0.859318\tvalidation_0-error:0.2287\tvalidation_0-error@0.6:0.2287\n",
            "[24]\tvalidation_0-auc:0.863052\tvalidation_0-error:0.2287\tvalidation_0-error@0.6:0.2287\n",
            "[25]\tvalidation_0-auc:0.858322\tvalidation_0-error:0.219731\tvalidation_0-error@0.6:0.2287\n",
            "[26]\tvalidation_0-auc:0.859152\tvalidation_0-error:0.219731\tvalidation_0-error@0.6:0.2287\n",
            "[27]\tvalidation_0-auc:0.859774\tvalidation_0-error:0.219731\tvalidation_0-error@0.6:0.2287\n",
            "[28]\tvalidation_0-auc:0.859276\tvalidation_0-error:0.219731\tvalidation_0-error@0.6:0.2287\n",
            "[29]\tvalidation_0-auc:0.856953\tvalidation_0-error:0.219731\tvalidation_0-error@0.6:0.2287\n",
            "[30]\tvalidation_0-auc:0.856787\tvalidation_0-error:0.219731\tvalidation_0-error@0.6:0.2287\n",
            "[31]\tvalidation_0-auc:0.853551\tvalidation_0-error:0.215247\tvalidation_0-error@0.6:0.2287\n",
            "[32]\tvalidation_0-auc:0.855045\tvalidation_0-error:0.224215\tvalidation_0-error@0.6:0.2287\n",
            "[33]\tvalidation_0-auc:0.855958\tvalidation_0-error:0.224215\tvalidation_0-error@0.6:0.2287\n",
            "[34]\tvalidation_0-auc:0.856538\tvalidation_0-error:0.224215\tvalidation_0-error@0.6:0.2287\n",
            "[35]\tvalidation_0-auc:0.856414\tvalidation_0-error:0.224215\tvalidation_0-error@0.6:0.2287\n",
            "[36]\tvalidation_0-auc:0.855003\tvalidation_0-error:0.224215\tvalidation_0-error@0.6:0.224215\n",
            "[37]\tvalidation_0-auc:0.85658\tvalidation_0-error:0.224215\tvalidation_0-error@0.6:0.224215\n",
            "[38]\tvalidation_0-auc:0.857534\tvalidation_0-error:0.224215\tvalidation_0-error@0.6:0.224215\n",
            "[39]\tvalidation_0-auc:0.858198\tvalidation_0-error:0.224215\tvalidation_0-error@0.6:0.224215\n",
            "[40]\tvalidation_0-auc:0.858571\tvalidation_0-error:0.224215\tvalidation_0-error@0.6:0.224215\n",
            "[41]\tvalidation_0-auc:0.858903\tvalidation_0-error:0.224215\tvalidation_0-error@0.6:0.224215\n",
            "[42]\tvalidation_0-auc:0.862015\tvalidation_0-error:0.219731\tvalidation_0-error@0.6:0.219731\n",
            "[43]\tvalidation_0-auc:0.858198\tvalidation_0-error:0.219731\tvalidation_0-error@0.6:0.219731\n",
            "[44]\tvalidation_0-auc:0.857161\tvalidation_0-error:0.219731\tvalidation_0-error@0.6:0.219731\n",
            "[45]\tvalidation_0-auc:0.855086\tvalidation_0-error:0.219731\tvalidation_0-error@0.6:0.219731\n",
            "[46]\tvalidation_0-auc:0.854754\tvalidation_0-error:0.224215\tvalidation_0-error@0.6:0.219731\n",
            "[47]\tvalidation_0-auc:0.859069\tvalidation_0-error:0.224215\tvalidation_0-error@0.6:0.219731\n",
            "[48]\tvalidation_0-auc:0.855999\tvalidation_0-error:0.224215\tvalidation_0-error@0.6:0.219731\n",
            "[49]\tvalidation_0-auc:0.855667\tvalidation_0-error:0.224215\tvalidation_0-error@0.6:0.219731\n",
            "[50]\tvalidation_0-auc:0.853966\tvalidation_0-error:0.224215\tvalidation_0-error@0.6:0.219731\n",
            "[51]\tvalidation_0-auc:0.853385\tvalidation_0-error:0.224215\tvalidation_0-error@0.6:0.219731\n",
            "[52]\tvalidation_0-auc:0.855377\tvalidation_0-error:0.224215\tvalidation_0-error@0.6:0.219731\n",
            "[53]\tvalidation_0-auc:0.855543\tvalidation_0-error:0.224215\tvalidation_0-error@0.6:0.219731\n",
            "[54]\tvalidation_0-auc:0.857285\tvalidation_0-error:0.224215\tvalidation_0-error@0.6:0.219731\n",
            "[55]\tvalidation_0-auc:0.862844\tvalidation_0-error:0.224215\tvalidation_0-error@0.6:0.219731\n",
            "[56]\tvalidation_0-auc:0.861517\tvalidation_0-error:0.224215\tvalidation_0-error@0.6:0.219731\n",
            "[57]\tvalidation_0-auc:0.863259\tvalidation_0-error:0.224215\tvalidation_0-error@0.6:0.219731\n",
            "[58]\tvalidation_0-auc:0.862844\tvalidation_0-error:0.224215\tvalidation_0-error@0.6:0.219731\n",
            "[59]\tvalidation_0-auc:0.863757\tvalidation_0-error:0.224215\tvalidation_0-error@0.6:0.219731\n",
            "[60]\tvalidation_0-auc:0.864006\tvalidation_0-error:0.224215\tvalidation_0-error@0.6:0.215247\n",
            "[61]\tvalidation_0-auc:0.863757\tvalidation_0-error:0.224215\tvalidation_0-error@0.6:0.215247\n",
            "[62]\tvalidation_0-auc:0.865582\tvalidation_0-error:0.224215\tvalidation_0-error@0.6:0.215247\n",
            "[63]\tvalidation_0-auc:0.865499\tvalidation_0-error:0.224215\tvalidation_0-error@0.6:0.215247\n",
            "[64]\tvalidation_0-auc:0.865914\tvalidation_0-error:0.224215\tvalidation_0-error@0.6:0.215247\n",
            "[65]\tvalidation_0-auc:0.86467\tvalidation_0-error:0.224215\tvalidation_0-error@0.6:0.215247\n",
            "[66]\tvalidation_0-auc:0.865292\tvalidation_0-error:0.224215\tvalidation_0-error@0.6:0.215247\n",
            "[67]\tvalidation_0-auc:0.864794\tvalidation_0-error:0.224215\tvalidation_0-error@0.6:0.215247\n",
            "[68]\tvalidation_0-auc:0.864711\tvalidation_0-error:0.224215\tvalidation_0-error@0.6:0.215247\n",
            "[69]\tvalidation_0-auc:0.86496\tvalidation_0-error:0.224215\tvalidation_0-error@0.6:0.215247\n",
            "[70]\tvalidation_0-auc:0.864379\tvalidation_0-error:0.224215\tvalidation_0-error@0.6:0.219731\n",
            "[71]\tvalidation_0-auc:0.863716\tvalidation_0-error:0.224215\tvalidation_0-error@0.6:0.219731\n",
            "[72]\tvalidation_0-auc:0.864462\tvalidation_0-error:0.224215\tvalidation_0-error@0.6:0.219731\n",
            "[73]\tvalidation_0-auc:0.864213\tvalidation_0-error:0.224215\tvalidation_0-error@0.6:0.219731\n",
            "[74]\tvalidation_0-auc:0.864877\tvalidation_0-error:0.224215\tvalidation_0-error@0.6:0.219731\n",
            "[75]\tvalidation_0-auc:0.864711\tvalidation_0-error:0.224215\tvalidation_0-error@0.6:0.219731\n",
            "[76]\tvalidation_0-auc:0.86496\tvalidation_0-error:0.224215\tvalidation_0-error@0.6:0.219731\n",
            "[77]\tvalidation_0-auc:0.864047\tvalidation_0-error:0.224215\tvalidation_0-error@0.6:0.219731\n",
            "[78]\tvalidation_0-auc:0.863799\tvalidation_0-error:0.224215\tvalidation_0-error@0.6:0.219731\n",
            "[79]\tvalidation_0-auc:0.864296\tvalidation_0-error:0.224215\tvalidation_0-error@0.6:0.219731\n",
            "[80]\tvalidation_0-auc:0.864379\tvalidation_0-error:0.224215\tvalidation_0-error@0.6:0.219731\n",
            "[81]\tvalidation_0-auc:0.865292\tvalidation_0-error:0.224215\tvalidation_0-error@0.6:0.219731\n",
            "[82]\tvalidation_0-auc:0.865541\tvalidation_0-error:0.224215\tvalidation_0-error@0.6:0.219731\n",
            "[83]\tvalidation_0-auc:0.865624\tvalidation_0-error:0.224215\tvalidation_0-error@0.6:0.219731\n",
            "[84]\tvalidation_0-auc:0.864877\tvalidation_0-error:0.224215\tvalidation_0-error@0.6:0.219731\n",
            "[85]\tvalidation_0-auc:0.864794\tvalidation_0-error:0.224215\tvalidation_0-error@0.6:0.219731\n",
            "[86]\tvalidation_0-auc:0.864711\tvalidation_0-error:0.224215\tvalidation_0-error@0.6:0.219731\n",
            "[87]\tvalidation_0-auc:0.864877\tvalidation_0-error:0.224215\tvalidation_0-error@0.6:0.219731\n",
            "[88]\tvalidation_0-auc:0.864711\tvalidation_0-error:0.224215\tvalidation_0-error@0.6:0.219731\n",
            "[89]\tvalidation_0-auc:0.864338\tvalidation_0-error:0.224215\tvalidation_0-error@0.6:0.219731\n",
            "[90]\tvalidation_0-auc:0.863259\tvalidation_0-error:0.224215\tvalidation_0-error@0.6:0.219731\n",
            "[91]\tvalidation_0-auc:0.863176\tvalidation_0-error:0.224215\tvalidation_0-error@0.6:0.219731\n",
            "[92]\tvalidation_0-auc:0.86301\tvalidation_0-error:0.224215\tvalidation_0-error@0.6:0.219731\n",
            "[93]\tvalidation_0-auc:0.862429\tvalidation_0-error:0.224215\tvalidation_0-error@0.6:0.219731\n",
            "[94]\tvalidation_0-auc:0.862512\tvalidation_0-error:0.224215\tvalidation_0-error@0.6:0.219731\n",
            "[95]\tvalidation_0-auc:0.862927\tvalidation_0-error:0.224215\tvalidation_0-error@0.6:0.219731\n",
            "[96]\tvalidation_0-auc:0.862678\tvalidation_0-error:0.224215\tvalidation_0-error@0.6:0.219731\n",
            "[97]\tvalidation_0-auc:0.862595\tvalidation_0-error:0.224215\tvalidation_0-error@0.6:0.219731\n",
            "[98]\tvalidation_0-auc:0.862595\tvalidation_0-error:0.224215\tvalidation_0-error@0.6:0.219731\n",
            "[99]\tvalidation_0-auc:0.862595\tvalidation_0-error:0.224215\tvalidation_0-error@0.6:0.219731\n",
            "Xgb Accuracy: 77.58%\n"
          ]
        }
      ]
    },
    {
      "cell_type": "code",
      "source": [
        "#predict test data\n",
        "model_xgb.fit(X, y)\n",
        "predictions = model_xgb.predict(X_test)\n",
        "\n",
        "submission_XGB = pd.read_csv(data_path+'gender_submission.csv', delimiter = ',')\n",
        "submission_XGB['Survived'] = predictions\n",
        "submission_XGB.to_csv('submission_XGB.csv', index=False)"
      ],
      "metadata": {
        "id": "PKn6jJe_65pL"
      },
      "execution_count": 31,
      "outputs": []
    },
    {
      "cell_type": "markdown",
      "source": [
        "**Stochastic Gradient Descent**"
      ],
      "metadata": {
        "id": "Mp2N8qgb8J_E"
      }
    },
    {
      "cell_type": "code",
      "source": [
        "'''\n",
        "SGD\n",
        "Run the model on the train and data to see the accuracy\n",
        "'''\n",
        "\n",
        "model_sgd = SGDClassifier(alpha=0.001, average=False, class_weight=None, early_stopping=False, epsilon = 0.4)\n",
        "model_sgd.fit(X_t, y_t)\n",
        "y_pred_sgd = model_sgd.predict(X_v)\n",
        "\n",
        "accuracy = accuracy_score(y_v, y_pred_sgd)\n",
        "print(\"SGD Accuracy: %.2f%%\" % (accuracy * 100.0))"
      ],
      "metadata": {
        "id": "GMNjDIaU8Odk",
        "colab": {
          "base_uri": "https://localhost:8080/"
        },
        "outputId": "96d0671d-a743-48d2-8681-fbd52357627f"
      },
      "execution_count": 32,
      "outputs": [
        {
          "output_type": "stream",
          "name": "stdout",
          "text": [
            "SGD Accuracy: 71.75%\n"
          ]
        }
      ]
    },
    {
      "cell_type": "code",
      "source": [
        "#predict test data\n",
        "model_sgd.fit(X, y)\n",
        "predictions = model_sgd.predict(X_test)\n",
        "\n",
        "submission_SGD = pd.read_csv(data_path+'gender_submission.csv', delimiter = ',')\n",
        "submission_SGD['Survived'] = predictions\n",
        "submission_SGD.to_csv('submission_SGD.csv', index=False)"
      ],
      "metadata": {
        "id": "KVSNV5_0KsXB"
      },
      "execution_count": 33,
      "outputs": []
    },
    {
      "cell_type": "markdown",
      "source": [
        "**Logistic Regression**"
      ],
      "metadata": {
        "id": "Y7eaRhLhQvj3"
      }
    },
    {
      "cell_type": "code",
      "source": [
        "'''\n",
        "SVM\n",
        "Run the model on the train and data to see the accuracy\n",
        "'''\n",
        "from sklearn import svm, datasets\n",
        "\n",
        "model_lr = LogisticRegression(random_state= 2, max_iter=500, class_weight='balanced', C= 0.05, solver= 'liblinear')\n",
        "model_lr.fit(X_t, y_t)\n",
        "y_pred_lr = model_lr.predict(X_v)\n",
        "\n",
        "accuracy = accuracy_score(y_v, y_pred_lr)\n",
        "print(\"LR Accuracy: %.2f%%\" % (accuracy * 100.0))\n"
      ],
      "metadata": {
        "id": "NMbYbTzUQzZN",
        "colab": {
          "base_uri": "https://localhost:8080/"
        },
        "outputId": "35d0c641-121b-4672-9891-f8c21463267f"
      },
      "execution_count": 34,
      "outputs": [
        {
          "output_type": "stream",
          "name": "stdout",
          "text": [
            "LR Accuracy: 77.58%\n"
          ]
        }
      ]
    },
    {
      "cell_type": "code",
      "source": [
        "#predict test data\n",
        "model_lr.fit(X, y)\n",
        "predictions = model_lr.predict(X_test)\n",
        "\n",
        "submission_LR = pd.read_csv(data_path+'gender_submission.csv', delimiter = ',')\n",
        "submission_LR['Survived'] = predictions\n",
        "submission_LR.to_csv('submission_LR.csv', index=False)"
      ],
      "metadata": {
        "id": "tbNXTQf-TS3r"
      },
      "execution_count": 35,
      "outputs": []
    }
  ]
}